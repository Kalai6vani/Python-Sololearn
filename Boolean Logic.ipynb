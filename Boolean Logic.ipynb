{
 "cells": [
  {
   "cell_type": "code",
   "execution_count": 1,
   "id": "863d19ac",
   "metadata": {},
   "outputs": [
    {
     "name": "stdout",
     "output_type": "stream",
     "text": [
      "True\n"
     ]
    }
   ],
   "source": [
    "print(1==1 and 2==2)"
   ]
  },
  {
   "cell_type": "code",
   "execution_count": 2,
   "id": "60b371ab",
   "metadata": {},
   "outputs": [
    {
     "name": "stdout",
     "output_type": "stream",
     "text": [
      "False\n"
     ]
    }
   ],
   "source": [
    "print(1==1 and 2==3)"
   ]
  },
  {
   "cell_type": "code",
   "execution_count": 3,
   "id": "34099011",
   "metadata": {},
   "outputs": [
    {
     "name": "stdout",
     "output_type": "stream",
     "text": [
      "False\n"
     ]
    }
   ],
   "source": [
    "print(1!=1 and 2==2)"
   ]
  },
  {
   "cell_type": "code",
   "execution_count": 4,
   "id": "1707abd1",
   "metadata": {},
   "outputs": [
    {
     "name": "stdout",
     "output_type": "stream",
     "text": [
      "False\n"
     ]
    }
   ],
   "source": [
    "print(2<1 and 3>6)"
   ]
  },
  {
   "cell_type": "code",
   "execution_count": 5,
   "id": "c56fb60f",
   "metadata": {},
   "outputs": [
    {
     "name": "stdout",
     "output_type": "stream",
     "text": [
      "true\n"
     ]
    }
   ],
   "source": [
    "if(1==1) and (2+2>3):\n",
    "    print(\"true\")\n",
    "else:\n",
    "    print(\"false\")"
   ]
  },
  {
   "cell_type": "code",
   "execution_count": 6,
   "id": "0fe2699f",
   "metadata": {},
   "outputs": [
    {
     "name": "stdout",
     "output_type": "stream",
     "text": [
      "True\n"
     ]
    }
   ],
   "source": [
    "print(1==1 or 2==2)"
   ]
  },
  {
   "cell_type": "code",
   "execution_count": 7,
   "id": "1a0ef6a8",
   "metadata": {},
   "outputs": [
    {
     "name": "stdout",
     "output_type": "stream",
     "text": [
      "True\n"
     ]
    }
   ],
   "source": [
    "print(1==1 or 2==3)"
   ]
  },
  {
   "cell_type": "code",
   "execution_count": 8,
   "id": "8f6da15f",
   "metadata": {},
   "outputs": [
    {
     "name": "stdout",
     "output_type": "stream",
     "text": [
      "True\n"
     ]
    }
   ],
   "source": [
    "print(1!=1 or 2==2)"
   ]
  },
  {
   "cell_type": "code",
   "execution_count": 9,
   "id": "fba8b63f",
   "metadata": {},
   "outputs": [
    {
     "name": "stdout",
     "output_type": "stream",
     "text": [
      "False\n"
     ]
    }
   ],
   "source": [
    "print(2<1 or 3>6)"
   ]
  },
  {
   "cell_type": "code",
   "execution_count": 10,
   "id": "5fd13e79",
   "metadata": {},
   "outputs": [
    {
     "name": "stdout",
     "output_type": "stream",
     "text": [
      "Welcome\n"
     ]
    }
   ],
   "source": [
    "age=15\n",
    "money=500\n",
    "if age>18 or money>100:\n",
    "    print(\"Welcome\")"
   ]
  },
  {
   "cell_type": "code",
   "execution_count": 11,
   "id": "d95fc434",
   "metadata": {},
   "outputs": [
    {
     "name": "stdout",
     "output_type": "stream",
     "text": [
      "Yes\n"
     ]
    }
   ],
   "source": [
    "age=24\n",
    "limit=18\n",
    "height=191\n",
    "if age>limit and height>180:\n",
    "    print(\"Yes\")"
   ]
  },
  {
   "cell_type": "code",
   "execution_count": 12,
   "id": "5a7b111d",
   "metadata": {},
   "outputs": [
    {
     "name": "stdout",
     "output_type": "stream",
     "text": [
      "False\n"
     ]
    }
   ],
   "source": [
    "print(not 1==1)"
   ]
  },
  {
   "cell_type": "code",
   "execution_count": 13,
   "id": "96dc3e15",
   "metadata": {},
   "outputs": [
    {
     "name": "stdout",
     "output_type": "stream",
     "text": [
      "True\n"
     ]
    }
   ],
   "source": [
    "print(not 1>7)"
   ]
  },
  {
   "cell_type": "code",
   "execution_count": 14,
   "id": "2539c096",
   "metadata": {},
   "outputs": [
    {
     "name": "stdout",
     "output_type": "stream",
     "text": [
      "2\n"
     ]
    }
   ],
   "source": [
    "if not True:\n",
    "    print(\"1\")\n",
    "elif not(1+1==3):\n",
    "    print(\"2\")\n",
    "else:\n",
    "    print(\"3\")"
   ]
  },
  {
   "cell_type": "code",
   "execution_count": 15,
   "id": "04192f9f",
   "metadata": {},
   "outputs": [
    {
     "name": "stdout",
     "output_type": "stream",
     "text": [
      "Cool\n"
     ]
    }
   ],
   "source": [
    "country=\"US\"\n",
    "age=42\n",
    "if(country=='US' or country=='GB')and (age>0 and age<100):\n",
    "    print(\"Cool\")"
   ]
  },
  {
   "cell_type": "code",
   "execution_count": 16,
   "id": "1f38ad39",
   "metadata": {},
   "outputs": [
    {
     "data": {
      "text/plain": [
       "4"
      ]
     },
     "execution_count": 16,
     "metadata": {},
     "output_type": "execute_result"
    }
   ],
   "source": [
    "#precedence () ** * / + -\n",
    "1+1*3"
   ]
  },
  {
   "cell_type": "code",
   "execution_count": 17,
   "id": "de0222bd",
   "metadata": {},
   "outputs": [
    {
     "name": "stdout",
     "output_type": "stream",
     "text": [
      "42\n",
      "Adult\n"
     ]
    }
   ],
   "source": [
    "'''\n",
    "AGE GROUPS\n",
    "\n",
    "Given the age of a person as an input, output their age group.\n",
    "Here are the age groups you need to handle:\n",
    "Child: 0 to 11\n",
    "Teen: 12 to 17\n",
    "Adult: 18 to 64\n",
    "\n",
    "Sample Input:\n",
    "42\n",
    "Sample Output:\n",
    "Adult\n",
    "'''\n",
    "age=int(input())\n",
    "if age>0 and age<11:\n",
    "    print(\"Child\")\n",
    "elif age>12 and age<17:\n",
    "    print(\"Teen\")\n",
    "else:\n",
    "    print(\"Adult\")"
   ]
  },
  {
   "cell_type": "code",
   "execution_count": 18,
   "id": "0d32ab60",
   "metadata": {},
   "outputs": [
    {
     "name": "stdout",
     "output_type": "stream",
     "text": [
      "6\n"
     ]
    }
   ],
   "source": [
    "print(2*2+2)"
   ]
  },
  {
   "cell_type": "code",
   "execution_count": null,
   "id": "b8a4565d",
   "metadata": {},
   "outputs": [],
   "source": []
  }
 ],
 "metadata": {
  "kernelspec": {
   "display_name": "Python 3 (ipykernel)",
   "language": "python",
   "name": "python3"
  },
  "language_info": {
   "codemirror_mode": {
    "name": "ipython",
    "version": 3
   },
   "file_extension": ".py",
   "mimetype": "text/x-python",
   "name": "python",
   "nbconvert_exporter": "python",
   "pygments_lexer": "ipython3",
   "version": "3.9.7"
  }
 },
 "nbformat": 4,
 "nbformat_minor": 5
}
