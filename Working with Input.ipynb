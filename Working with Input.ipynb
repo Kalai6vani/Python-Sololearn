{
 "cells": [
  {
   "cell_type": "code",
   "execution_count": 1,
   "id": "589b95eb",
   "metadata": {},
   "outputs": [
    {
     "name": "stdout",
     "output_type": "stream",
     "text": [
      "20\n",
      "20\n"
     ]
    }
   ],
   "source": [
    "age=int(input())\n",
    "print(age)"
   ]
  },
  {
   "cell_type": "code",
   "execution_count": 3,
   "id": "740d2ff3",
   "metadata": {},
   "outputs": [
    {
     "name": "stdout",
     "output_type": "stream",
     "text": [
      "18\n",
      "18.0\n"
     ]
    }
   ],
   "source": [
    "#convert to float\n",
    "height=float(input())\n",
    "print(height)"
   ]
  },
  {
   "cell_type": "code",
   "execution_count": 4,
   "id": "ba4efdec",
   "metadata": {},
   "outputs": [
    {
     "name": "stdout",
     "output_type": "stream",
     "text": [
      "His age is 42\n"
     ]
    }
   ],
   "source": [
    "#convert to string\n",
    "age=42\n",
    "print(\"His age is \"+str(age))"
   ]
  },
  {
   "cell_type": "code",
   "execution_count": 5,
   "id": "76410fdd",
   "metadata": {},
   "outputs": [
    {
     "name": "stdout",
     "output_type": "stream",
     "text": [
      "jane\n",
      "20\n",
      "jane is 20\n"
     ]
    }
   ],
   "source": [
    "#multiple inputs\n",
    "name=input()\n",
    "age=input()\n",
    "print(name+\" is \"+age)"
   ]
  },
  {
   "cell_type": "code",
   "execution_count": 6,
   "id": "b61030ad",
   "metadata": {},
   "outputs": [
    {
     "name": "stdout",
     "output_type": "stream",
     "text": [
      "hi\n",
      "3\n",
      "hihihi\n"
     ]
    }
   ],
   "source": [
    "'''\n",
    "Write a program to take x and y as input and output\n",
    "the string x, repeated y times.\n",
    "\n",
    "Sample Input:\n",
    "hi \n",
    "3\n",
    "Sample Output:\n",
    "hihihi\n",
    "'''\n",
    "x=input()\n",
    "y=int(input())\n",
    "print(x*y)"
   ]
  },
  {
   "cell_type": "code",
   "execution_count": null,
   "id": "65271467",
   "metadata": {},
   "outputs": [],
   "source": []
  }
 ],
 "metadata": {
  "kernelspec": {
   "display_name": "Python 3 (ipykernel)",
   "language": "python",
   "name": "python3"
  },
  "language_info": {
   "codemirror_mode": {
    "name": "ipython",
    "version": 3
   },
   "file_extension": ".py",
   "mimetype": "text/x-python",
   "name": "python",
   "nbconvert_exporter": "python",
   "pygments_lexer": "ipython3",
   "version": "3.9.7"
  }
 },
 "nbformat": 4,
 "nbformat_minor": 5
}
