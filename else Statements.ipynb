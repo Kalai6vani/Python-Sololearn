{
 "cells": [
  {
   "cell_type": "code",
   "execution_count": 1,
   "id": "4a3ac79e",
   "metadata": {},
   "outputs": [
    {
     "name": "stdout",
     "output_type": "stream",
     "text": [
      "No\n"
     ]
    }
   ],
   "source": [
    "x=4\n",
    "if x==5:\n",
    "    print(\"Yes\")\n",
    "else:\n",
    "    print(\"No\")"
   ]
  },
  {
   "cell_type": "code",
   "execution_count": 2,
   "id": "473d5df8",
   "metadata": {},
   "outputs": [
    {
     "name": "stdout",
     "output_type": "stream",
     "text": [
      "else\n"
     ]
    }
   ],
   "source": [
    "if 1+1==2:\n",
    "    if 2*2==8:\n",
    "        print('if')\n",
    "    else:\n",
    "        print('else')"
   ]
  },
  {
   "cell_type": "code",
   "execution_count": 3,
   "id": "0f059172",
   "metadata": {},
   "outputs": [
    {
     "name": "stdout",
     "output_type": "stream",
     "text": [
      "Passed!\n"
     ]
    }
   ],
   "source": [
    "grade=87\n",
    "if grade>=75:\n",
    "    print(\"Passed!\")\n",
    "else:\n",
    "    print(\"Failed\")"
   ]
  },
  {
   "cell_type": "code",
   "execution_count": 4,
   "id": "3fdda8aa",
   "metadata": {},
   "outputs": [
    {
     "name": "stdout",
     "output_type": "stream",
     "text": [
      "Three\n"
     ]
    }
   ],
   "source": [
    "num=3\n",
    "if num==1:\n",
    "    print(\"One\")\n",
    "else:\n",
    "    if num==2:\n",
    "        print(\"Two\")\n",
    "    else:\n",
    "        if num==3:\n",
    "            print(\"Three\")\n",
    "        else:\n",
    "            print(\"Something else\")"
   ]
  },
  {
   "cell_type": "code",
   "execution_count": 5,
   "id": "1888e702",
   "metadata": {},
   "outputs": [
    {
     "name": "stdout",
     "output_type": "stream",
     "text": [
      "else statement\n"
     ]
    }
   ],
   "source": [
    "x=10\n",
    "y=20\n",
    "if x>y:\n",
    "    print(\"if statement\")\n",
    "else:\n",
    "    print(\"else statement\")"
   ]
  },
  {
   "cell_type": "code",
   "execution_count": 6,
   "id": "c16ee37c",
   "metadata": {},
   "outputs": [
    {
     "name": "stdout",
     "output_type": "stream",
     "text": [
      "Three\n"
     ]
    }
   ],
   "source": [
    "num=3\n",
    "if num==1:\n",
    "    print(\"One\")\n",
    "elif num==2:\n",
    "    print(\"Two\")\n",
    "elif num==3:\n",
    "    print(\"Three\")\n",
    "else:\n",
    "    print(\"Something else\")"
   ]
  },
  {
   "cell_type": "code",
   "execution_count": 7,
   "id": "19fe559a",
   "metadata": {},
   "outputs": [
    {
     "name": "stdout",
     "output_type": "stream",
     "text": [
      "Something else\n"
     ]
    }
   ],
   "source": [
    "num=8\n",
    "if num==1:\n",
    "    print(\"One\")\n",
    "elif num==2:\n",
    "    print(\"Two\")\n",
    "elif num==3:\n",
    "    print(\"Three\")\n",
    "else:\n",
    "    print(\"Something else\")"
   ]
  },
  {
   "cell_type": "code",
   "execution_count": 8,
   "id": "13314b58",
   "metadata": {},
   "outputs": [
    {
     "name": "stdout",
     "output_type": "stream",
     "text": [
      "Positive\n"
     ]
    }
   ],
   "source": [
    "num=42\n",
    "if num<0:\n",
    "    print(\"Negative\")\n",
    "elif num>0:\n",
    "    print(\"Positive\")\n",
    "else:\n",
    "    print(\"Zero\")"
   ]
  },
  {
   "cell_type": "code",
   "execution_count": 9,
   "id": "278a3b4c",
   "metadata": {},
   "outputs": [
    {
     "name": "stdout",
     "output_type": "stream",
     "text": [
      "24\n",
      "Allowed\n"
     ]
    }
   ],
   "source": [
    "'''\n",
    "Write a program to control entrance to a club. Only\n",
    "people who are 18 or older are allowed to enter the\n",
    "club.\n",
    "Your program takes the age of the person who tries to \n",
    "enter, and outputs \"Allowed\" if they are allowed to\n",
    "enter the club, and \"Sorry\" if they are younger than\n",
    "the allowed age.\n",
    "\n",
    "Sample Input:\n",
    "24\n",
    "Sample Output:\n",
    "Allowed\n",
    "'''\n",
    "age=int(input())\n",
    "if age>=18:\n",
    "    print(\"Allowed\")\n",
    "else:\n",
    "    print(\"Sorry\")"
   ]
  },
  {
   "cell_type": "code",
   "execution_count": 10,
   "id": "75ecdcdf",
   "metadata": {},
   "outputs": [
    {
     "name": "stdout",
     "output_type": "stream",
     "text": [
      "10\n"
     ]
    }
   ],
   "source": [
    "x=10\n",
    "y=20\n",
    "if x>y:\n",
    "    print(x+y)\n",
    "else:\n",
    "    print(y-x)"
   ]
  },
  {
   "cell_type": "code",
   "execution_count": null,
   "id": "6435989c",
   "metadata": {},
   "outputs": [],
   "source": []
  }
 ],
 "metadata": {
  "kernelspec": {
   "display_name": "Python 3 (ipykernel)",
   "language": "python",
   "name": "python3"
  },
  "language_info": {
   "codemirror_mode": {
    "name": "ipython",
    "version": 3
   },
   "file_extension": ".py",
   "mimetype": "text/x-python",
   "name": "python",
   "nbconvert_exporter": "python",
   "pygments_lexer": "ipython3",
   "version": "3.9.7"
  }
 },
 "nbformat": 4,
 "nbformat_minor": 5
}
