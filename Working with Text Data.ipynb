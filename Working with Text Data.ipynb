{
 "cells": [
  {
   "cell_type": "code",
   "execution_count": 1,
   "id": "2431ced0",
   "metadata": {},
   "outputs": [
    {
     "name": "stdout",
     "output_type": "stream",
     "text": [
      "2.71\n"
     ]
    }
   ],
   "source": [
    "print(2.71)"
   ]
  },
  {
   "cell_type": "code",
   "execution_count": 2,
   "id": "d318140b",
   "metadata": {},
   "outputs": [
    {
     "ename": "NameError",
     "evalue": "name 'October' is not defined",
     "output_type": "error",
     "traceback": [
      "\u001b[1;31m---------------------------------------------------------------------------\u001b[0m",
      "\u001b[1;31mNameError\u001b[0m                                 Traceback (most recent call last)",
      "\u001b[1;32m~\\AppData\\Local\\Temp/ipykernel_28892/2560280030.py\u001b[0m in \u001b[0;36m<module>\u001b[1;34m\u001b[0m\n\u001b[1;32m----> 1\u001b[1;33m \u001b[0mprint\u001b[0m\u001b[1;33m(\u001b[0m\u001b[0mOctober\u001b[0m\u001b[1;33m)\u001b[0m\u001b[1;33m\u001b[0m\u001b[1;33m\u001b[0m\u001b[0m\n\u001b[0m",
      "\u001b[1;31mNameError\u001b[0m: name 'October' is not defined"
     ]
    }
   ],
   "source": [
    "print(October)"
   ]
  },
  {
   "cell_type": "code",
   "execution_count": 3,
   "id": "62ce4a84",
   "metadata": {},
   "outputs": [
    {
     "name": "stdout",
     "output_type": "stream",
     "text": [
      "October\n"
     ]
    }
   ],
   "source": [
    "#string in print needs to be enclosed within single or double quotes\n",
    "print(\"October\")"
   ]
  },
  {
   "cell_type": "code",
   "execution_count": 4,
   "id": "9c614ede",
   "metadata": {},
   "outputs": [
    {
     "name": "stdout",
     "output_type": "stream",
     "text": [
      "I am a string\n"
     ]
    }
   ],
   "source": [
    "print(\"I am a string\")"
   ]
  },
  {
   "cell_type": "code",
   "execution_count": 5,
   "id": "80c812d2",
   "metadata": {},
   "outputs": [
    {
     "name": "stdout",
     "output_type": "stream",
     "text": [
      "ThemePark\n"
     ]
    }
   ],
   "source": [
    "#Concatenation\n",
    "print(\"Theme\"+\"Park\")"
   ]
  },
  {
   "cell_type": "code",
   "execution_count": 6,
   "id": "7ced407f",
   "metadata": {},
   "outputs": [
    {
     "name": "stdout",
     "output_type": "stream",
     "text": [
      "Water Park\n"
     ]
    }
   ],
   "source": [
    "print(\"Water \"+\"Park\")"
   ]
  },
  {
   "cell_type": "code",
   "execution_count": 7,
   "id": "753f74a6",
   "metadata": {},
   "outputs": [
    {
     "name": "stdout",
     "output_type": "stream",
     "text": [
      "286\n"
     ]
    }
   ],
   "source": [
    "#integers given as string will be string only\n",
    "#no arithmetic operations are involved\n",
    "print(\"28\"+\"6\")"
   ]
  },
  {
   "cell_type": "code",
   "execution_count": 8,
   "id": "8d38538d",
   "metadata": {},
   "outputs": [
    {
     "name": "stdout",
     "output_type": "stream",
     "text": [
      "Knowledge is power\n"
     ]
    }
   ],
   "source": [
    "'''KNOWLEDGE IS POWER\n",
    "print the same\n",
    "'''\n",
    "print(\"Knowledge \"+\"is \"+\"power\")"
   ]
  },
  {
   "cell_type": "code",
   "execution_count": null,
   "id": "d0dfc721",
   "metadata": {},
   "outputs": [],
   "source": []
  }
 ],
 "metadata": {
  "kernelspec": {
   "display_name": "Python 3 (ipykernel)",
   "language": "python",
   "name": "python3"
  },
  "language_info": {
   "codemirror_mode": {
    "name": "ipython",
    "version": 3
   },
   "file_extension": ".py",
   "mimetype": "text/x-python",
   "name": "python",
   "nbconvert_exporter": "python",
   "pygments_lexer": "ipython3",
   "version": "3.9.7"
  }
 },
 "nbformat": 4,
 "nbformat_minor": 5
}
