{
 "cells": [
  {
   "cell_type": "code",
   "execution_count": 1,
   "id": "d38a62ee",
   "metadata": {},
   "outputs": [
    {
     "name": "stdout",
     "output_type": "stream",
     "text": [
      "13.5\n"
     ]
    }
   ],
   "source": [
    "'''\n",
    "\n",
    "You are at the airport and you need to calculate the \n",
    "flight time of an upcoming trip. You are flying from LA\n",
    "to Sydney, covering a distance of 7425 miles, and the\n",
    "plane flies at an average speed of 550 miles an hour.\n",
    "\n",
    "TASK:\n",
    "Calculate and output the total flight time in hours.\n",
    "\n",
    "'''\n",
    "\n",
    "distance=7425\n",
    "speed=550\n",
    "print(distance/speed)"
   ]
  },
  {
   "cell_type": "code",
   "execution_count": null,
   "id": "98cb1a64",
   "metadata": {},
   "outputs": [],
   "source": []
  }
 ],
 "metadata": {
  "kernelspec": {
   "display_name": "Python 3 (ipykernel)",
   "language": "python",
   "name": "python3"
  },
  "language_info": {
   "codemirror_mode": {
    "name": "ipython",
    "version": 3
   },
   "file_extension": ".py",
   "mimetype": "text/x-python",
   "name": "python",
   "nbconvert_exporter": "python",
   "pygments_lexer": "ipython3",
   "version": "3.9.7"
  }
 },
 "nbformat": 4,
 "nbformat_minor": 5
}
