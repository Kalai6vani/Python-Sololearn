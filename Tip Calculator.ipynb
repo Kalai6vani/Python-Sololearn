{
 "cells": [
  {
   "cell_type": "code",
   "execution_count": 1,
   "id": "ee5db9f2",
   "metadata": {},
   "outputs": [
    {
     "name": "stdout",
     "output_type": "stream",
     "text": [
      "50\n",
      "10.0\n"
     ]
    }
   ],
   "source": [
    "'''\n",
    "When you go out to eat, you always tip 20% of the bill\n",
    "amount. But who's got the time to calculate the right\n",
    "tip amount every time? Not you that's for sure! You're\n",
    "making a program to calculate tips and save more time.\n",
    "Your program needs to take the bill amount as input \n",
    "and output the tip as a float.\n",
    "\n",
    "Sample Input:\n",
    "50\n",
    "Sample Output:\n",
    "10.0\n",
    "\n",
    "'''\n",
    "bill=int(input())\n",
    "print(bill*20/100)"
   ]
  },
  {
   "cell_type": "code",
   "execution_count": null,
   "id": "a5f13c77",
   "metadata": {},
   "outputs": [],
   "source": []
  }
 ],
 "metadata": {
  "kernelspec": {
   "display_name": "Python 3 (ipykernel)",
   "language": "python",
   "name": "python3"
  },
  "language_info": {
   "codemirror_mode": {
    "name": "ipython",
    "version": 3
   },
   "file_extension": ".py",
   "mimetype": "text/x-python",
   "name": "python",
   "nbconvert_exporter": "python",
   "pygments_lexer": "ipython3",
   "version": "3.9.7"
  }
 },
 "nbformat": 4,
 "nbformat_minor": 5
}
