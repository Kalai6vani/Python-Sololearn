{
 "cells": [
  {
   "cell_type": "code",
   "execution_count": 1,
   "id": "cff67f24",
   "metadata": {},
   "outputs": [
    {
     "name": "stdout",
     "output_type": "stream",
     "text": [
      "Name:\n",
      "Mary\n",
      "Balance:\n",
      "500\n"
     ]
    }
   ],
   "source": [
    "#multiple lines\n",
    "print(\"Name:\")\n",
    "print(\"Mary\")\n",
    "print(\"Balance:\")\n",
    "print(500)"
   ]
  },
  {
   "cell_type": "code",
   "execution_count": 2,
   "id": "99d746e6",
   "metadata": {},
   "outputs": [
    {
     "name": "stdout",
     "output_type": "stream",
     "text": [
      "We are the champions, my friends\n",
      "And we'll keep on fighting till the end\n",
      "We are the champions\n"
     ]
    }
   ],
   "source": [
    "print('We are the champions, my friends')\n",
    "print(\"And we'll keep on fighting till the end\")\n",
    "print('We are the champions')"
   ]
  },
  {
   "cell_type": "code",
   "execution_count": 3,
   "id": "e8786b51",
   "metadata": {},
   "outputs": [
    {
     "name": "stdout",
     "output_type": "stream",
     "text": [
      "Balance: 5000\n"
     ]
    }
   ],
   "source": [
    "print(\"Balance:\",5000)"
   ]
  },
  {
   "cell_type": "code",
   "execution_count": 4,
   "id": "a047d847",
   "metadata": {},
   "outputs": [
    {
     "name": "stdout",
     "output_type": "stream",
     "text": [
      "Iron-Man\n"
     ]
    }
   ],
   "source": [
    "#separator - used to separate the values\n",
    "print(\"Iron\",\"Man\",sep='-')"
   ]
  },
  {
   "cell_type": "code",
   "execution_count": 5,
   "id": "190d7df1",
   "metadata": {},
   "outputs": [
    {
     "name": "stdout",
     "output_type": "stream",
     "text": [
      "Spain-Madrid\n"
     ]
    }
   ],
   "source": [
    "print(\"Spain\",\"Madrid\",sep='-')"
   ]
  },
  {
   "cell_type": "code",
   "execution_count": 6,
   "id": "6e6e8eb9",
   "metadata": {},
   "outputs": [
    {
     "name": "stdout",
     "output_type": "stream",
     "text": [
      "Spider-Man\n"
     ]
    }
   ],
   "source": [
    "#print Spider-Man\n",
    "print(\"Spider\",\"Man\",sep='-')"
   ]
  },
  {
   "cell_type": "code",
   "execution_count": null,
   "id": "5abb7365",
   "metadata": {},
   "outputs": [],
   "source": []
  }
 ],
 "metadata": {
  "kernelspec": {
   "display_name": "Python 3 (ipykernel)",
   "language": "python",
   "name": "python3"
  },
  "language_info": {
   "codemirror_mode": {
    "name": "ipython",
    "version": 3
   },
   "file_extension": ".py",
   "mimetype": "text/x-python",
   "name": "python",
   "nbconvert_exporter": "python",
   "pygments_lexer": "ipython3",
   "version": "3.9.7"
  }
 },
 "nbformat": 4,
 "nbformat_minor": 5
}
