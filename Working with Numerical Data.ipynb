{
 "cells": [
  {
   "cell_type": "code",
   "execution_count": 1,
   "id": "bf7c06a1",
   "metadata": {},
   "outputs": [
    {
     "name": "stdout",
     "output_type": "stream",
     "text": [
      "6\n"
     ]
    }
   ],
   "source": [
    "#accepts many operations in one\n",
    "print(9+4-7)"
   ]
  },
  {
   "cell_type": "code",
   "execution_count": 2,
   "id": "8dc6a5bd",
   "metadata": {},
   "outputs": [
    {
     "name": "stdout",
     "output_type": "stream",
     "text": [
      "62\n"
     ]
    }
   ],
   "source": [
    "#sum\n",
    "print(55+7)"
   ]
  },
  {
   "cell_type": "code",
   "execution_count": 3,
   "id": "4d87796d",
   "metadata": {},
   "outputs": [
    {
     "name": "stdout",
     "output_type": "stream",
     "text": [
      "144\n"
     ]
    }
   ],
   "source": [
    "#multiplication\n",
    "print(12*12)"
   ]
  },
  {
   "cell_type": "code",
   "execution_count": 4,
   "id": "33e2c92c",
   "metadata": {},
   "outputs": [
    {
     "name": "stdout",
     "output_type": "stream",
     "text": [
      "126\n"
     ]
    }
   ],
   "source": [
    "print(42*3)"
   ]
  },
  {
   "cell_type": "code",
   "execution_count": 5,
   "id": "513ae736",
   "metadata": {},
   "outputs": [
    {
     "name": "stdout",
     "output_type": "stream",
     "text": [
      "4.0\n"
     ]
    }
   ],
   "source": [
    "#division\n",
    "print(8/2)"
   ]
  },
  {
   "cell_type": "code",
   "execution_count": 6,
   "id": "0f2d8c9c",
   "metadata": {},
   "outputs": [
    {
     "ename": "SyntaxError",
     "evalue": "unexpected EOF while parsing (Temp/ipykernel_26748/1886210804.py, line 4)",
     "output_type": "error",
     "traceback": [
      "\u001b[1;36m  File \u001b[1;32m\"C:\\Users\\kvkv6\\AppData\\Local\\Temp/ipykernel_26748/1886210804.py\"\u001b[1;36m, line \u001b[1;32m4\u001b[0m\n\u001b[1;33m    print(100*100\u001b[0m\n\u001b[1;37m                 ^\u001b[0m\n\u001b[1;31mSyntaxError\u001b[0m\u001b[1;31m:\u001b[0m unexpected EOF while parsing\n"
     ]
    }
   ],
   "source": [
    "#returns a decimal value\n",
    "#integer - whole numbers\n",
    "#float - decimal numbers\n",
    "print(100*100"
   ]
  },
  {
   "cell_type": "code",
   "execution_count": 7,
   "id": "e5cef509",
   "metadata": {},
   "outputs": [
    {
     "name": "stdout",
     "output_type": "stream",
     "text": [
      "10000\n"
     ]
    }
   ],
   "source": [
    "#print statement needs opening and closing parentheses\n",
    "print(100*100)"
   ]
  },
  {
   "cell_type": "code",
   "execution_count": 8,
   "id": "010e06af",
   "metadata": {},
   "outputs": [
    {
     "name": "stdout",
     "output_type": "stream",
     "text": [
      "61\n"
     ]
    }
   ],
   "source": [
    "'''SOCCER TEAM\n",
    "You need to calculate the points earned by a soccer team. The team won 18 games and ended 7 games as \n",
    "a draw. \n",
    "A win brings 3 points, while a draw brings 1;\n",
    "'''\n",
    "print(18*3+7)"
   ]
  },
  {
   "cell_type": "code",
   "execution_count": null,
   "id": "526c4d1a",
   "metadata": {},
   "outputs": [],
   "source": []
  }
 ],
 "metadata": {
  "kernelspec": {
   "display_name": "Python 3 (ipykernel)",
   "language": "python",
   "name": "python3"
  },
  "language_info": {
   "codemirror_mode": {
    "name": "ipython",
    "version": 3
   },
   "file_extension": ".py",
   "mimetype": "text/x-python",
   "name": "python",
   "nbconvert_exporter": "python",
   "pygments_lexer": "ipython3",
   "version": "3.9.7"
  }
 },
 "nbformat": 4,
 "nbformat_minor": 5
}
