{
 "cells": [
  {
   "cell_type": "code",
   "execution_count": 1,
   "id": "c8e563e9",
   "metadata": {},
   "outputs": [
    {
     "name": "stdout",
     "output_type": "stream",
     "text": [
      "x is greater than 5\n"
     ]
    }
   ],
   "source": [
    "x=42\n",
    "if x>5:\n",
    "    print(\"x is greater than 5\")"
   ]
  },
  {
   "cell_type": "code",
   "execution_count": 2,
   "id": "feb2a68b",
   "metadata": {},
   "outputs": [
    {
     "name": "stdout",
     "output_type": "stream",
     "text": [
      "five\n"
     ]
    }
   ],
   "source": [
    "spam=7\n",
    "if spam>5:\n",
    "    print(\"five\")\n",
    "if spam>8:\n",
    "    print(\"eight\")"
   ]
  },
  {
   "cell_type": "code",
   "execution_count": 3,
   "id": "029e45b8",
   "metadata": {},
   "outputs": [
    {
     "name": "stdout",
     "output_type": "stream",
     "text": [
      "Cool\n"
     ]
    }
   ],
   "source": [
    "age=24\n",
    "if age>18:\n",
    "    print(\"Cool\")"
   ]
  },
  {
   "cell_type": "code",
   "execution_count": 4,
   "id": "3a086b75",
   "metadata": {},
   "outputs": [
    {
     "name": "stdout",
     "output_type": "stream",
     "text": [
      "Bigger than 5\n",
      "Between 5 and 47\n"
     ]
    }
   ],
   "source": [
    "num=12\n",
    "if num>5:\n",
    "    print(\"Bigger than 5\")\n",
    "    if num<=47:\n",
    "        print(\"Between 5 and 47\")"
   ]
  },
  {
   "cell_type": "code",
   "execution_count": 5,
   "id": "ef035e8c",
   "metadata": {},
   "outputs": [
    {
     "name": "stdout",
     "output_type": "stream",
     "text": [
      "3\n"
     ]
    }
   ],
   "source": [
    "num=7\n",
    "if num>3:\n",
    "    print(\"3\")\n",
    "    if num<5:\n",
    "        print(\"5\")\n",
    "        if num==7:\n",
    "            print(\"7\")"
   ]
  },
  {
   "cell_type": "code",
   "execution_count": 6,
   "id": "8df17677",
   "metadata": {},
   "outputs": [
    {
     "name": "stdout",
     "output_type": "stream",
     "text": [
      "105\n",
      "Boiling\n"
     ]
    }
   ],
   "source": [
    "'''\n",
    "Write a program that checks if the water is boiling.\n",
    "Take the integer temperature in Celsius as input and\n",
    "output \"Boiling\" if the temperature is above or equal\n",
    "to 100.\n",
    "\n",
    "Sample Input:\n",
    "105\n",
    "Sample Output:\n",
    "Boiling\n",
    "'''\n",
    "temp=int(input())\n",
    "if temp>100:\n",
    "    print(\"Boiling\")"
   ]
  },
  {
   "cell_type": "code",
   "execution_count": 7,
   "id": "1593c172",
   "metadata": {},
   "outputs": [
    {
     "name": "stdout",
     "output_type": "stream",
     "text": [
      "ab\n"
     ]
    }
   ],
   "source": [
    "x='a'\n",
    "if x<'c':\n",
    "    x+='b'\n",
    "if x>'z':\n",
    "    x+='c'\n",
    "print(x)"
   ]
  },
  {
   "cell_type": "code",
   "execution_count": null,
   "id": "f38af5c2",
   "metadata": {},
   "outputs": [],
   "source": []
  }
 ],
 "metadata": {
  "kernelspec": {
   "display_name": "Python 3 (ipykernel)",
   "language": "python",
   "name": "python3"
  },
  "language_info": {
   "codemirror_mode": {
    "name": "ipython",
    "version": 3
   },
   "file_extension": ".py",
   "mimetype": "text/x-python",
   "name": "python",
   "nbconvert_exporter": "python",
   "pygments_lexer": "ipython3",
   "version": "3.9.7"
  }
 },
 "nbformat": 4,
 "nbformat_minor": 5
}
