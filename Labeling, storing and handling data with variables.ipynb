{
 "cells": [
  {
   "cell_type": "code",
   "execution_count": 1,
   "id": "1aaaf604",
   "metadata": {},
   "outputs": [
    {
     "name": "stdout",
     "output_type": "stream",
     "text": [
      "15\n"
     ]
    }
   ],
   "source": [
    "points=15\n",
    "print(points)"
   ]
  },
  {
   "cell_type": "code",
   "execution_count": 2,
   "id": "25723f61",
   "metadata": {},
   "outputs": [
    {
     "name": "stdout",
     "output_type": "stream",
     "text": [
      "45\n"
     ]
    }
   ],
   "source": [
    "price=15\n",
    "print(price*3)"
   ]
  },
  {
   "cell_type": "code",
   "execution_count": 3,
   "id": "dbc12604",
   "metadata": {},
   "outputs": [
    {
     "name": "stdout",
     "output_type": "stream",
     "text": [
      "2028\n"
     ]
    }
   ],
   "source": [
    "year=2023\n",
    "print(year+5)"
   ]
  },
  {
   "cell_type": "code",
   "execution_count": 4,
   "id": "109291d9",
   "metadata": {},
   "outputs": [
    {
     "name": "stdout",
     "output_type": "stream",
     "text": [
      "8\n",
      "41\n"
     ]
    }
   ],
   "source": [
    "x=8\n",
    "print(x)\n",
    "x=41\n",
    "print(x)"
   ]
  },
  {
   "cell_type": "code",
   "execution_count": 5,
   "id": "2795cb4b",
   "metadata": {},
   "outputs": [
    {
     "name": "stdout",
     "output_type": "stream",
     "text": [
      "24\n"
     ]
    }
   ],
   "source": [
    "age=42\n",
    "age=24\n",
    "print(age)"
   ]
  },
  {
   "cell_type": "code",
   "execution_count": 6,
   "id": "f738ddb0",
   "metadata": {},
   "outputs": [
    {
     "name": "stdout",
     "output_type": "stream",
     "text": [
      "45\n",
      "1.8\n"
     ]
    }
   ],
   "source": [
    "x=9\n",
    "y=5\n",
    "print(x*y)\n",
    "print(x/y)"
   ]
  },
  {
   "cell_type": "code",
   "execution_count": 7,
   "id": "d97dd804",
   "metadata": {},
   "outputs": [
    {
     "name": "stdout",
     "output_type": "stream",
     "text": [
      "12\n"
     ]
    }
   ],
   "source": [
    "x=10\n",
    "y=2\n",
    "print(x+y)"
   ]
  },
  {
   "cell_type": "code",
   "execution_count": 8,
   "id": "b6992bfc",
   "metadata": {},
   "outputs": [
    {
     "name": "stdout",
     "output_type": "stream",
     "text": [
      "Total: $ 798\n"
     ]
    }
   ],
   "source": [
    "#variable can have letters and numbers\n",
    "#should not begin with an integer\n",
    "#can have underscore\n",
    "result=798\n",
    "currency=\"$\"\n",
    "print(\"Total:\",currency,result)"
   ]
  },
  {
   "cell_type": "code",
   "execution_count": 9,
   "id": "be6d1c11",
   "metadata": {},
   "outputs": [
    {
     "name": "stdout",
     "output_type": "stream",
     "text": [
      "20\n"
     ]
    }
   ],
   "source": [
    "'''STORING DATA\n",
    "Declare a number and output the value\n",
    "'''\n",
    "num=4\n",
    "print(num*5)"
   ]
  },
  {
   "cell_type": "code",
   "execution_count": 10,
   "id": "3291dd8b",
   "metadata": {},
   "outputs": [
    {
     "name": "stdout",
     "output_type": "stream",
     "text": [
      "13.5\n"
     ]
    }
   ],
   "source": [
    "'''FLIGHT TIME\n",
    "You are present at the airport and you need to calculate the flight time of an upcoming trip. You are\n",
    "flying from LA to Sydney, covering a distance of 7425 miles, and the plane flies at an average speed of\n",
    "550 miles an hour.\n",
    "'''\n",
    "distance=7425\n",
    "speed=550\n",
    "print(distance/speed)"
   ]
  },
  {
   "cell_type": "code",
   "execution_count": null,
   "id": "a69d2349",
   "metadata": {},
   "outputs": [],
   "source": []
  }
 ],
 "metadata": {
  "kernelspec": {
   "display_name": "Python 3 (ipykernel)",
   "language": "python",
   "name": "python3"
  },
  "language_info": {
   "codemirror_mode": {
    "name": "ipython",
    "version": 3
   },
   "file_extension": ".py",
   "mimetype": "text/x-python",
   "name": "python",
   "nbconvert_exporter": "python",
   "pygments_lexer": "ipython3",
   "version": "3.9.7"
  }
 },
 "nbformat": 4,
 "nbformat_minor": 5
}
