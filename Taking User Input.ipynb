{
 "cells": [
  {
   "cell_type": "code",
   "execution_count": 1,
   "id": "2dff5a93",
   "metadata": {},
   "outputs": [
    {
     "name": "stdout",
     "output_type": "stream",
     "text": [
      "6\n",
      "6\n"
     ]
    }
   ],
   "source": [
    "x=input()\n",
    "print(x)"
   ]
  },
  {
   "cell_type": "code",
   "execution_count": 2,
   "id": "61b073fe",
   "metadata": {},
   "outputs": [
    {
     "name": "stdout",
     "output_type": "stream",
     "text": [
      "5\n",
      "You entered: 5\n"
     ]
    }
   ],
   "source": [
    "number=input()\n",
    "print(\"You entered: \"+number)"
   ]
  },
  {
   "cell_type": "code",
   "execution_count": 3,
   "id": "5c302115",
   "metadata": {},
   "outputs": [
    {
     "name": "stdout",
     "output_type": "stream",
     "text": [
      "Freddy\n",
      "Welcome, Freddy\n"
     ]
    }
   ],
   "source": [
    "name=input()\n",
    "print(\"Welcome, \"+name)"
   ]
  },
  {
   "cell_type": "code",
   "execution_count": 5,
   "id": "fc0a3ddf",
   "metadata": {},
   "outputs": [
    {
     "name": "stdout",
     "output_type": "stream",
     "text": [
      "anna\n",
      "18\n",
      "anna is 18 years old\n"
     ]
    }
   ],
   "source": [
    "'''\n",
    "Imagine you're working on a new contact management \n",
    "system. The program is required to ask the user for \n",
    "name and age inputs. \n",
    "The following output needs to be produced:\n",
    "\"name is age years old\", where name and age are\n",
    "variables.\n",
    "\n",
    "Sample Input:\n",
    "Anna\n",
    "18\n",
    "Sample Output:\n",
    "Anna is 18 years old\n",
    "\n",
    "'''\n",
    "name=input()\n",
    "age=input()\n",
    "print(name+\" is \"+age+\" years old\")"
   ]
  },
  {
   "cell_type": "code",
   "execution_count": null,
   "id": "51902062",
   "metadata": {},
   "outputs": [],
   "source": []
  }
 ],
 "metadata": {
  "kernelspec": {
   "display_name": "Python 3 (ipykernel)",
   "language": "python",
   "name": "python3"
  },
  "language_info": {
   "codemirror_mode": {
    "name": "ipython",
    "version": 3
   },
   "file_extension": ".py",
   "mimetype": "text/x-python",
   "name": "python",
   "nbconvert_exporter": "python",
   "pygments_lexer": "ipython3",
   "version": "3.9.7"
  }
 },
 "nbformat": 4,
 "nbformat_minor": 5
}
