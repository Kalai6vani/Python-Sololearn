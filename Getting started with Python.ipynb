{
 "cells": [
  {
   "cell_type": "code",
   "execution_count": 1,
   "id": "7107de6e",
   "metadata": {},
   "outputs": [
    {
     "name": "stdout",
     "output_type": "stream",
     "text": [
      "60\n"
     ]
    }
   ],
   "source": [
    "#print command is used to specify a message to the screen\n",
    "print(60)"
   ]
  },
  {
   "cell_type": "code",
   "execution_count": 2,
   "id": "e6cb77aa",
   "metadata": {},
   "outputs": [
    {
     "name": "stdout",
     "output_type": "stream",
     "text": [
      "Welcome to the Code Playground\n"
     ]
    }
   ],
   "source": [
    "print(\"Welcome to the Code Playground\")"
   ]
  },
  {
   "cell_type": "code",
   "execution_count": 3,
   "id": "c60587a0",
   "metadata": {},
   "outputs": [
    {
     "name": "stdout",
     "output_type": "stream",
     "text": [
      "729\n"
     ]
    }
   ],
   "source": [
    "print(729)"
   ]
  },
  {
   "cell_type": "code",
   "execution_count": 4,
   "id": "a5b8cebc",
   "metadata": {},
   "outputs": [
    {
     "name": "stdout",
     "output_type": "stream",
     "text": [
      "Coding is your new superpower\n"
     ]
    }
   ],
   "source": [
    "print(\"Coding is your new superpower\")"
   ]
  },
  {
   "cell_type": "code",
   "execution_count": 5,
   "id": "ec9e2676",
   "metadata": {},
   "outputs": [
    {
     "ename": "SyntaxError",
     "evalue": "EOL while scanning string literal (Temp/ipykernel_9564/3715193339.py, line 1)",
     "output_type": "error",
     "traceback": [
      "\u001b[1;36m  File \u001b[1;32m\"C:\\Users\\kvkv6\\AppData\\Local\\Temp/ipykernel_9564/3715193339.py\"\u001b[1;36m, line \u001b[1;32m1\u001b[0m\n\u001b[1;33m    print(\"Now you are a code detective.)\u001b[0m\n\u001b[1;37m                                         ^\u001b[0m\n\u001b[1;31mSyntaxError\u001b[0m\u001b[1;31m:\u001b[0m EOL while scanning string literal\n"
     ]
    }
   ],
   "source": [
    "print(\"Now you are a code detective.)"
   ]
  },
  {
   "cell_type": "code",
   "execution_count": 6,
   "id": "0f137f6c",
   "metadata": {},
   "outputs": [
    {
     "name": "stdout",
     "output_type": "stream",
     "text": [
      "Now you are a code detective.\n"
     ]
    }
   ],
   "source": [
    "#print statement needs opening and closing quotation marks\n",
    "print(\"Now you are a code detective.\")"
   ]
  },
  {
   "cell_type": "code",
   "execution_count": null,
   "id": "5b26fa2d",
   "metadata": {},
   "outputs": [],
   "source": []
  }
 ],
 "metadata": {
  "kernelspec": {
   "display_name": "Python 3 (ipykernel)",
   "language": "python",
   "name": "python3"
  },
  "language_info": {
   "codemirror_mode": {
    "name": "ipython",
    "version": 3
   },
   "file_extension": ".py",
   "mimetype": "text/x-python",
   "name": "python",
   "nbconvert_exporter": "python",
   "pygments_lexer": "ipython3",
   "version": "3.9.7"
  }
 },
 "nbformat": 4,
 "nbformat_minor": 5
}
